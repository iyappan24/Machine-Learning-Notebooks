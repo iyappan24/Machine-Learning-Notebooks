{
 "cells": [
  {
   "cell_type": "markdown",
   "metadata": {},
   "source": [
    "# K-Means Clustering "
   ]
  },
  {
   "cell_type": "code",
   "execution_count": 80,
   "metadata": {
    "collapsed": true
   },
   "outputs": [],
   "source": [
    "import numpy as np\n",
    "import pandas as pd\n",
    "import matplotlib.pyplot as plt\n",
    "%matplotlib inline"
   ]
  },
  {
   "cell_type": "markdown",
   "metadata": {},
   "source": [
    "** About the Notebook and dataset used **\n",
    "\n",
    "The notebook helps in understanding K-means clustering using a dataset.\n",
    "The dataset is about a list of Customers who have done shopping in a mall.\n",
    "\n",
    "** Problem Statement:**\n",
    "\n",
    "As a data scientist , you have to find the segments of the customer based on their Annual Income and Spending Score assigned by the retailers in the Mall. There is not pre-existing segment label. \n",
    "\n",
    "Such a customer segmentation will be useful for the retailer in figuring out different market strategies on definite/promising customer segments to increase the profit.\n",
    "\n",
    "** As there is not Y label to predict , it is an unsupervised approach ** \n",
    "** We would be using K-means clustering Algorithm to cluster the Customers based on the Annual Income and Spending Score **"
   ]
  },
  {
   "cell_type": "code",
   "execution_count": 81,
   "metadata": {
    "collapsed": true
   },
   "outputs": [],
   "source": [
    "df = pd.read_csv(\"Mall_Customers.csv\")"
   ]
  },
  {
   "cell_type": "code",
   "execution_count": 82,
   "metadata": {},
   "outputs": [
    {
     "data": {
      "text/html": [
       "<div>\n",
       "<style>\n",
       "    .dataframe thead tr:only-child th {\n",
       "        text-align: right;\n",
       "    }\n",
       "\n",
       "    .dataframe thead th {\n",
       "        text-align: left;\n",
       "    }\n",
       "\n",
       "    .dataframe tbody tr th {\n",
       "        vertical-align: top;\n",
       "    }\n",
       "</style>\n",
       "<table border=\"1\" class=\"dataframe\">\n",
       "  <thead>\n",
       "    <tr style=\"text-align: right;\">\n",
       "      <th></th>\n",
       "      <th>CustomerID</th>\n",
       "      <th>Genre</th>\n",
       "      <th>Age</th>\n",
       "      <th>Annual Income (k$)</th>\n",
       "      <th>Spending Score (1-100)</th>\n",
       "    </tr>\n",
       "  </thead>\n",
       "  <tbody>\n",
       "    <tr>\n",
       "      <th>0</th>\n",
       "      <td>1</td>\n",
       "      <td>Male</td>\n",
       "      <td>19</td>\n",
       "      <td>15</td>\n",
       "      <td>39</td>\n",
       "    </tr>\n",
       "    <tr>\n",
       "      <th>1</th>\n",
       "      <td>2</td>\n",
       "      <td>Male</td>\n",
       "      <td>21</td>\n",
       "      <td>15</td>\n",
       "      <td>81</td>\n",
       "    </tr>\n",
       "    <tr>\n",
       "      <th>2</th>\n",
       "      <td>3</td>\n",
       "      <td>Female</td>\n",
       "      <td>20</td>\n",
       "      <td>16</td>\n",
       "      <td>6</td>\n",
       "    </tr>\n",
       "    <tr>\n",
       "      <th>3</th>\n",
       "      <td>4</td>\n",
       "      <td>Female</td>\n",
       "      <td>23</td>\n",
       "      <td>16</td>\n",
       "      <td>77</td>\n",
       "    </tr>\n",
       "    <tr>\n",
       "      <th>4</th>\n",
       "      <td>5</td>\n",
       "      <td>Female</td>\n",
       "      <td>31</td>\n",
       "      <td>17</td>\n",
       "      <td>40</td>\n",
       "    </tr>\n",
       "  </tbody>\n",
       "</table>\n",
       "</div>"
      ],
      "text/plain": [
       "   CustomerID   Genre  Age  Annual Income (k$)  Spending Score (1-100)\n",
       "0           1    Male   19                  15                      39\n",
       "1           2    Male   21                  15                      81\n",
       "2           3  Female   20                  16                       6\n",
       "3           4  Female   23                  16                      77\n",
       "4           5  Female   31                  17                      40"
      ]
     },
     "execution_count": 82,
     "metadata": {},
     "output_type": "execute_result"
    }
   ],
   "source": [
    "df.head()"
   ]
  },
  {
   "cell_type": "markdown",
   "metadata": {},
   "source": [
    "** Data Description ** \n",
    "1. CustomerID \n",
    "2. Genre : Denotes the Gender \n",
    "3. Age\n",
    "4. Annual Income in Thousand Dollars \n",
    "5. Spending score is assigned to customers based on several criteria, amount spent ,number of times they purchased in a year etc.\n",
    "\n",
    "We would be segmenting the customers on the basis of the last 2 columns of the data."
   ]
  },
  {
   "cell_type": "code",
   "execution_count": 83,
   "metadata": {
    "collapsed": true
   },
   "outputs": [],
   "source": [
    "x = df.iloc[:,[3,4]].values #fetching the values"
   ]
  },
  {
   "cell_type": "markdown",
   "metadata": {},
   "source": [
    "Plotting the Scatterplot ( X = Annual Inccome , Y = Spending score ) to see the distribution of the data points in two dimensional space."
   ]
  },
  {
   "cell_type": "code",
   "execution_count": 84,
   "metadata": {},
   "outputs": [
    {
     "data": {
      "text/plain": [
       "<matplotlib.text.Text at 0x119536438>"
      ]
     },
     "execution_count": 84,
     "metadata": {},
     "output_type": "execute_result"
    },
    {
     "data": {
      "image/png": "[encoded data removed]",
      "text/plain": [
       "<matplotlib.figure.Figure at 0x11948ea90>"
      ]
     },
     "metadata": {},
     "output_type": "display_data"
    }
   ],
   "source": [
    "plt.scatter(df['Annual Income (k$)'],df['Spending Score (1-100)'])\n",
    "plt.title('Annual Income vs Spending Score')\n",
    "plt.xlabel('Annual Income')\n",
    "plt.ylabel('Spending Score')"
   ]
  },
  {
   "cell_type": "markdown",
   "metadata": {},
   "source": [
    "**Inferrence** \n",
    "We see a good amount of seggregated data. \n",
    "With the above visual , we can assume that the ideal number of clusters to be specified in the algorithm would be around 5 - 7.\n",
    "We would be verifying the ideal number clusters to specify by fitting the data on repeated iterations on the basis for cluster assumptions.\n",
    "\n",
    "** Problem solving approach : **\n",
    "\n",
    "1. We would be running for loop with intial assumption of cluster to be 1 to 11.\n",
    "2. At each iteration we would calculate the WCSS of each Fit.\n",
    "3. We would plot a line graph to figure out the optimal number of clusters ( identify the last elbow) of the graph.\n",
    "4. After obtaining the we would refit the model with the optimal number of clusters and assign labels to the dataset."
   ]
  },
  {
   "cell_type": "code",
   "execution_count": 9,
   "metadata": {},
   "outputs": [],
   "source": [
    "from sklearn.cluster import KMeans"
   ]
  },
  {
   "cell_type": "code",
   "execution_count": 11,
   "metadata": {},
   "outputs": [],
   "source": [
    "wcss = []\n",
    "for i in range(1,11):\n",
    "    kmeans = KMeans(n_clusters=i,init= 'k-means++',max_iter=300, n_init= 10,random_state=0)\n",
    "    kmeans.fit(x) #fitting the data\n",
    "    wcss.append(kmeans.inertia_) #returns the WCSS value of the each fit "
   ]
  },
  {
   "cell_type": "code",
   "execution_count": 69,
   "metadata": {},
   "outputs": [
    {
     "data": {
      "text/plain": [
       "<matplotlib.text.Text at 0x118abd6a0>"
      ]
     },
     "execution_count": 69,
     "metadata": {},
     "output_type": "execute_result"
    },
    {
     "data": {
      "image/png": "[encoded data removed]",
      "text/plain": [
       "<matplotlib.figure.Figure at 0x118ab9080>"
      ]
     },
     "metadata": {},
     "output_type": "display_data"
    }
   ],
   "source": [
    "#plotting the elbow curve\n",
    "plt.plot(range(1,11),wcss)\n",
    "plt.title(\"The Elbow Method\")\n",
    "plt.xlabel(\"Number of clusters\")\n",
    "plt.ylabel(\"WCSS\")"
   ]
  },
  {
   "cell_type": "markdown",
   "metadata": {},
   "source": [
    "We see that the curve saturates towards zero without any abrupt changes from the values ** 5 **.\n",
    "We choose 5 as the optimal number of clusters. "
   ]
  },
  {
   "cell_type": "code",
   "execution_count": 53,
   "metadata": {
    "collapsed": true
   },
   "outputs": [],
   "source": [
    "#refitting the model \n",
    "KM = KMeans(n_clusters=5,init='k-means++',max_iter=300,n_init=1,random_state=0)\n",
    "y_kmeans = KM.fit_predict(x) #fit predict functions returns the cluster name of each value."
   ]
  },
  {
   "cell_type": "code",
   "execution_count": 87,
   "metadata": {},
   "outputs": [
    {
     "data": {
      "text/plain": [
       "<matplotlib.legend.Legend at 0x119238ac8>"
      ]
     },
     "execution_count": 87,
     "metadata": {},
     "output_type": "execute_result"
    },
    {
     "data": {
      "image/png": "[encoded data removed]",
      "text/plain": [
       "<matplotlib.figure.Figure at 0x11957d2b0>"
      ]
     },
     "metadata": {},
     "output_type": "display_data"
    }
   ],
   "source": [
    "#now lets plot the segments of customers \n",
    "\n",
    "plt.scatter(x[y_kmeans == 0,0],x[y_kmeans == 0,1],s = 40 , c = 'red', label = 'Cluster 1')\n",
    "plt.scatter(x[y_kmeans == 1,0],x[y_kmeans == 1,1],s = 40 , c = 'blue', label = 'Cluster 2')\n",
    "plt.scatter(x[y_kmeans == 2,0],x[y_kmeans == 2,1],s = 40 , c = 'green', label = 'Cluster 3')\n",
    "plt.scatter(x[y_kmeans == 3,0],x[y_kmeans == 3,1],s = 40 , c = 'orange', label = 'Cluster 4')\n",
    "plt.scatter(x[y_kmeans == 4,0],x[y_kmeans == 4,1],s = 40 , c = 'cyan', label = 'Cluster 5')\n",
    "plt.scatter(KM.cluster_centers_[:,0],KM.cluster_centers_[:,1],s = 60,c = 'black', label = 'Centroids')\n",
    "plt.ylabel('Spending Score (1-100)')\n",
    "plt.xlabel('Annual Income (k$)')\n",
    "plt.title('Clusters of clients')\n",
    "plt.legend(loc = 'best')"
   ]
  },
  {
   "cell_type": "markdown",
   "metadata": {},
   "source": [
    "** Inferrence ** \n",
    "\n",
    "1. Cluster 1 : Customers who have higher Annual Income but spend very less. ** Un-reliable ** \n",
    "2. Cluster 2 : Customers who have average Annual Income but carefully spend in shopping : **Potential Customers ** \n",
    "3. Cluster 3 : Customers who have good Annual income and spend a lot in shopping : ** Champions **\n",
    "4. Cluster 4 : Customers have less Annual Income but spend a lot of in shopping : ** Budget Customers **\n",
    "5. Cluster 5 : Customers who have less annual income and don't shop a lot : ** Inactive Customers ** "
   ]
  },
  {
   "cell_type": "code",
   "execution_count": 88,
   "metadata": {
    "collapsed": true
   },
   "outputs": [],
   "source": [
    "df['Cluster'] = y_kmeans"
   ]
  },
  {
   "cell_type": "code",
   "execution_count": 91,
   "metadata": {
    "collapsed": true
   },
   "outputs": [],
   "source": [
    "def namming(col):\n",
    "    val = col\n",
    "    if val == 0:\n",
    "        return \"Un-reliable\"\n",
    "    elif val == 1 :\n",
    "        return \"Potential Customers\"\n",
    "    elif val == 2 :\n",
    "        return \"Champions\"\n",
    "    elif val == 3 :\n",
    "        return \"Budget Cust\"\n",
    "    elif val == 4 :\n",
    "        return \"inactive\""
   ]
  },
  {
   "cell_type": "code",
   "execution_count": 92,
   "metadata": {},
   "outputs": [],
   "source": [
    "df['Segments']=df['Cluster'].apply(namming)"
   ]
  },
  {
   "cell_type": "code",
   "execution_count": 94,
   "metadata": {},
   "outputs": [],
   "source": [
    "df.drop(['Cluster'],axis = 1, inplace = True)"
   ]
  },
  {
   "cell_type": "code",
   "execution_count": 97,
   "metadata": {},
   "outputs": [
    {
     "data": {
      "text/html": [
       "<div>\n",
       "<style>\n",
       "    .dataframe thead tr:only-child th {\n",
       "        text-align: right;\n",
       "    }\n",
       "\n",
       "    .dataframe thead th {\n",
       "        text-align: left;\n",
       "    }\n",
       "\n",
       "    .dataframe tbody tr th {\n",
       "        vertical-align: top;\n",
       "    }\n",
       "</style>\n",
       "<table border=\"1\" class=\"dataframe\">\n",
       "  <thead>\n",
       "    <tr style=\"text-align: right;\">\n",
       "      <th></th>\n",
       "      <th>CustomerID</th>\n",
       "      <th>Genre</th>\n",
       "      <th>Age</th>\n",
       "      <th>Annual Income (k$)</th>\n",
       "      <th>Spending Score (1-100)</th>\n",
       "      <th>Segments</th>\n",
       "    </tr>\n",
       "  </thead>\n",
       "  <tbody>\n",
       "    <tr>\n",
       "      <th>0</th>\n",
       "      <td>1</td>\n",
       "      <td>Male</td>\n",
       "      <td>19</td>\n",
       "      <td>15</td>\n",
       "      <td>39</td>\n",
       "      <td>inactive</td>\n",
       "    </tr>\n",
       "    <tr>\n",
       "      <th>1</th>\n",
       "      <td>2</td>\n",
       "      <td>Male</td>\n",
       "      <td>21</td>\n",
       "      <td>15</td>\n",
       "      <td>81</td>\n",
       "      <td>Budget Cust</td>\n",
       "    </tr>\n",
       "    <tr>\n",
       "      <th>2</th>\n",
       "      <td>3</td>\n",
       "      <td>Female</td>\n",
       "      <td>20</td>\n",
       "      <td>16</td>\n",
       "      <td>6</td>\n",
       "      <td>inactive</td>\n",
       "    </tr>\n",
       "    <tr>\n",
       "      <th>3</th>\n",
       "      <td>4</td>\n",
       "      <td>Female</td>\n",
       "      <td>23</td>\n",
       "      <td>16</td>\n",
       "      <td>77</td>\n",
       "      <td>Budget Cust</td>\n",
       "    </tr>\n",
       "    <tr>\n",
       "      <th>4</th>\n",
       "      <td>5</td>\n",
       "      <td>Female</td>\n",
       "      <td>31</td>\n",
       "      <td>17</td>\n",
       "      <td>40</td>\n",
       "      <td>inactive</td>\n",
       "    </tr>\n",
       "    <tr>\n",
       "      <th>5</th>\n",
       "      <td>6</td>\n",
       "      <td>Female</td>\n",
       "      <td>22</td>\n",
       "      <td>17</td>\n",
       "      <td>76</td>\n",
       "      <td>Budget Cust</td>\n",
       "    </tr>\n",
       "    <tr>\n",
       "      <th>6</th>\n",
       "      <td>7</td>\n",
       "      <td>Female</td>\n",
       "      <td>35</td>\n",
       "      <td>18</td>\n",
       "      <td>6</td>\n",
       "      <td>inactive</td>\n",
       "    </tr>\n",
       "    <tr>\n",
       "      <th>7</th>\n",
       "      <td>8</td>\n",
       "      <td>Female</td>\n",
       "      <td>23</td>\n",
       "      <td>18</td>\n",
       "      <td>94</td>\n",
       "      <td>Budget Cust</td>\n",
       "    </tr>\n",
       "    <tr>\n",
       "      <th>8</th>\n",
       "      <td>9</td>\n",
       "      <td>Male</td>\n",
       "      <td>64</td>\n",
       "      <td>19</td>\n",
       "      <td>3</td>\n",
       "      <td>inactive</td>\n",
       "    </tr>\n",
       "    <tr>\n",
       "      <th>9</th>\n",
       "      <td>10</td>\n",
       "      <td>Female</td>\n",
       "      <td>30</td>\n",
       "      <td>19</td>\n",
       "      <td>72</td>\n",
       "      <td>Budget Cust</td>\n",
       "    </tr>\n",
       "  </tbody>\n",
       "</table>\n",
       "</div>"
      ],
      "text/plain": [
       "   CustomerID   Genre  Age  Annual Income (k$)  Spending Score (1-100)  \\\n",
       "0           1    Male   19                  15                      39   \n",
       "1           2    Male   21                  15                      81   \n",
       "2           3  Female   20                  16                       6   \n",
       "3           4  Female   23                  16                      77   \n",
       "4           5  Female   31                  17                      40   \n",
       "5           6  Female   22                  17                      76   \n",
       "6           7  Female   35                  18                       6   \n",
       "7           8  Female   23                  18                      94   \n",
       "8           9    Male   64                  19                       3   \n",
       "9          10  Female   30                  19                      72   \n",
       "\n",
       "      Segments  \n",
       "0     inactive  \n",
       "1  Budget Cust  \n",
       "2     inactive  \n",
       "3  Budget Cust  \n",
       "4     inactive  \n",
       "5  Budget Cust  \n",
       "6     inactive  \n",
       "7  Budget Cust  \n",
       "8     inactive  \n",
       "9  Budget Cust  "
      ]
     },
     "execution_count": 97,
     "metadata": {},
     "output_type": "execute_result"
    }
   ],
   "source": [
    "df.head(10)"
   ]
  },
  {
   "cell_type": "code",
   "execution_count": 98,
   "metadata": {},
   "outputs": [
    {
     "data": {
      "text/plain": [
       "Potential Customers    81\n",
       "Champions              39\n",
       "Un-reliable            35\n",
       "inactive               23\n",
       "Budget Cust            22\n",
       "Name: Segments, dtype: int64"
      ]
     },
     "execution_count": 98,
     "metadata": {},
     "output_type": "execute_result"
    }
   ],
   "source": [
    "pd.value_counts(df['Segments'])"
   ]
  }
 ],
 "metadata": {
  "kernelspec": {
   "display_name": "Python 3",
   "language": "python",
   "name": "python3"
  },
  "language_info": {
   "codemirror_mode": {
    "name": "ipython",
    "version": 3
   },
   "file_extension": ".py",
   "mimetype": "text/x-python",
   "name": "python",
   "nbconvert_exporter": "python",
   "pygments_lexer": "ipython3",
   "version": "3.5.4"
  }
 },
 "nbformat": 4,
 "nbformat_minor": 2
}
