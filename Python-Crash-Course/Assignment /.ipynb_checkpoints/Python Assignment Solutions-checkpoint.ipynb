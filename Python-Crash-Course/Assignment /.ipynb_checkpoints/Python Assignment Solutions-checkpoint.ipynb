{
 "cells": [
  {
   "cell_type": "markdown",
   "metadata": {},
   "source": [
    "# Python Assignment"
   ]
  },
  {
   "cell_type": "markdown",
   "metadata": {},
   "source": [
    "# 1."
   ]
  },
  {
   "cell_type": "code",
   "execution_count": 1,
   "metadata": {},
   "outputs": [
    {
     "name": "stdout",
     "output_type": "stream",
     "text": [
      " Multiplcation tables of 15 till 12 : \n",
      " \n",
      "\n",
      "15 x 1 = 15\n",
      "\n",
      "15 x 2 = 30\n",
      "\n",
      "15 x 3 = 45\n",
      "\n",
      "15 x 4 = 60\n",
      "\n",
      "15 x 5 = 75\n",
      "\n",
      "15 x 6 = 90\n",
      "\n",
      "15 x 7 = 105\n",
      "\n",
      "15 x 8 = 120\n",
      "\n",
      "15 x 9 = 135\n",
      "\n",
      "15 x 10 = 150\n",
      "\n",
      "15 x 11 = 165\n",
      "\n",
      "15 x 12 = 180\n",
      "\n"
     ]
    }
   ],
   "source": [
    "def multable(num,limit):\n",
    "    \"\"\"\n",
    "    Programme to print the Multiplcation table of a number till a given limit\n",
    "    \"\"\"\n",
    "    #having a max limit\n",
    "    if limit > 50 :\n",
    "        print(\"Cmon, you don't need so much of tables\\n\")\n",
    "    elif num == 0:\n",
    "        print(\"Its all Zeros\")\n",
    "    else :\n",
    "        print(\" Multiplcation tables of \" + str(num) + \" till \" + str(limit) + \" : \\n \\n\")\n",
    "        for i in range(1,limit+1):\n",
    "            result = i * num\n",
    "            print(str(num)+ \" x \" + str(i) + \" = \" + str(result) + \"\\n\")\n",
    "\n",
    "multable(15,12)"
   ]
  },
  {
   "cell_type": "markdown",
   "metadata": {},
   "source": [
    "# 2."
   ]
  },
  {
   "cell_type": "code",
   "execution_count": 3,
   "metadata": {},
   "outputs": [
    {
     "name": "stdout",
     "output_type": "stream",
     "text": [
      "(3, 5)\n",
      "\n",
      "\n",
      "(5, 7)\n",
      "\n",
      "\n",
      "(11, 13)\n",
      "\n",
      "\n",
      "(17, 19)\n",
      "\n",
      "\n",
      "(29, 31)\n",
      "\n",
      "\n",
      "(41, 43)\n",
      "\n",
      "\n",
      "(59, 61)\n",
      "\n",
      "\n",
      "(71, 73)\n",
      "\n",
      "\n",
      "(101, 103)\n",
      "\n",
      "\n",
      "(107, 109)\n",
      "\n",
      "\n",
      "(137, 139)\n",
      "\n",
      "\n",
      "(149, 151)\n",
      "\n",
      "\n",
      "(179, 181)\n",
      "\n",
      "\n",
      "(191, 193)\n",
      "\n",
      "\n",
      "(197, 199)\n",
      "\n",
      "\n",
      "(227, 229)\n",
      "\n",
      "\n",
      "(239, 241)\n",
      "\n",
      "\n",
      "(269, 271)\n",
      "\n",
      "\n",
      "(281, 283)\n",
      "\n",
      "\n",
      "(311, 313)\n",
      "\n",
      "\n",
      "(347, 349)\n",
      "\n",
      "\n",
      "(419, 421)\n",
      "\n",
      "\n",
      "(431, 433)\n",
      "\n",
      "\n",
      "(461, 463)\n",
      "\n",
      "\n",
      "(521, 523)\n",
      "\n",
      "\n",
      "(569, 571)\n",
      "\n",
      "\n",
      "(599, 601)\n",
      "\n",
      "\n",
      "(617, 619)\n",
      "\n",
      "\n",
      "(641, 643)\n",
      "\n",
      "\n",
      "(659, 661)\n",
      "\n",
      "\n",
      "(809, 811)\n",
      "\n",
      "\n",
      "(821, 823)\n",
      "\n",
      "\n",
      "(827, 829)\n",
      "\n",
      "\n",
      "(857, 859)\n",
      "\n",
      "\n",
      "(881, 883)\n",
      "\n",
      "\n"
     ]
    }
   ],
   "source": [
    "\n",
    "def primecheck(num):\n",
    "     \"\"\"\n",
    "     function to tell wether a number is prime or not : returns boolean\n",
    "     \"\"\"\n",
    "     if num == 1:\n",
    "            return False\n",
    "     elif num <= 0:\n",
    "            return False\n",
    "     elif num == 2:\n",
    "            return 2\n",
    "     else :\n",
    "        val = 0\n",
    "        for i in range(2,num):\n",
    "            val = i\n",
    "            if(num%i) == 0:\n",
    "                    return False\n",
    "        if val+1 == num :\n",
    "            return True\n",
    "\n",
    "def odd_check(num):\n",
    "    \"\"\"\n",
    "    function to tell wether a given number is odd or not : returns boolean\n",
    "    \"\"\"\n",
    "    if (num%2)==0:\n",
    "        return False\n",
    "    else :\n",
    "        return True\n",
    "\n",
    "\n",
    "twinP = []\n",
    "for i in range(1,1000):\n",
    "    if odd_check(i) and odd_check(i+2):\n",
    "        if primecheck(i) and primecheck(i+2):\n",
    "            twins = (i,i+2)\n",
    "            twinP.append(twins)\n",
    "\n",
    "for i in twinP:\n",
    "    print(i)\n",
    "    print(\"\\n\")\n"
   ]
  },
  {
   "cell_type": "markdown",
   "metadata": {},
   "source": [
    "# 3."
   ]
  },
  {
   "cell_type": "code",
   "execution_count": 19,
   "metadata": {},
   "outputs": [
    {
     "name": "stdout",
     "output_type": "stream",
     "text": [
      "The are no prime factors because the number itself is a prime number \n",
      "\n",
      "The prime factors of the number 785 are : \n",
      "5\n",
      "157\n",
      "The prime factors of the number 24 are : \n",
      "2\n",
      "3\n"
     ]
    }
   ],
   "source": [
    "def primecheck(num):\n",
    "    \"\"\"\n",
    "     function to tell wether a number is prime or not : returns boolean\n",
    "     \"\"\"\n",
    "    if num == 1:\n",
    "            return False\n",
    "    elif num <= 0:\n",
    "            return False\n",
    "    elif num == 2:\n",
    "            return 2\n",
    "    else :\n",
    "        val = 0\n",
    "        for i in range(2,num):\n",
    "            val = i\n",
    "            if(num%i) == 0:\n",
    "                    return False\n",
    "        if val+1 == num :\n",
    "            return True\n",
    "    \n",
    "    \n",
    "def primefactors(num):\n",
    "    \"\"\"\n",
    "    funtion to find all the prime factors of a number\n",
    "    \"\"\"\n",
    "    if primecheck(num):\n",
    "        print(\"The are no prime factors because the number itself is a prime number \\n\")\n",
    "    else:\n",
    "        \n",
    "        primeNs=[]\n",
    "        \n",
    "        for i in range(1,num):\n",
    "            if primecheck(i):\n",
    "                primeNs.append(i) #getting all the primenumbers from 2 to number\n",
    "\n",
    "        pfactors = []\n",
    "\n",
    "        for i in primeNs: #iterating through Prime numbers\n",
    "            if num % i == 0:\n",
    "                pfactors.append(i)\n",
    "\n",
    "        print(\"The prime factors of the number \" + str(num) + \" are : \")\n",
    "        for i in pfactors:\n",
    "            print(i)\n",
    "        \n",
    "            \n",
    "primefactors(23)\n",
    "primefactors(785)\n",
    "primefactors(24)"
   ]
  },
  {
   "cell_type": "markdown",
   "metadata": {},
   "source": [
    "# 4."
   ]
  },
  {
   "cell_type": "code",
   "execution_count": 26,
   "metadata": {},
   "outputs": [
    {
     "name": "stdout",
     "output_type": "stream",
     "text": [
      "total permutation of 10 things taken 4 at a time : 5040\n",
      "total combination of 10 things taken 11 at a time : 167960\n"
     ]
    }
   ],
   "source": [
    "def factorial(n):\n",
    "    \"\"\"\n",
    "    funtion to find a factorial of a number\n",
    "\n",
    "    \"\"\"\n",
    "    fact = 1\n",
    "    for i in range(1,n+1):\n",
    "        fact = fact * i\n",
    "\n",
    "    return fact\n",
    "\n",
    "def permutation(n,r):\n",
    "    \"\"\"\n",
    "    function to calculate the total number of permutations of N things take R at a time without reptition\n",
    "    \"\"\"\n",
    "    p = factorial(n)/factorial(n-r)\n",
    "\n",
    "    return int(p)\n",
    "\n",
    "\n",
    "def combination(n,r):\n",
    "    \"\"\"\n",
    "    function to calculate the toal number of combinations of N things take R at a time\n",
    "    \"\"\"\n",
    "    c = factorial(n)/(factorial(n-r) * factorial(r))\n",
    "\n",
    "    return int(c)\n",
    "\n",
    "print(\"total permutation of 10 things taken 4 at a time :\",permutation(10,4))\n",
    "print(\"total combination of 10 things taken 11 at a time :\",combination(20,11))"
   ]
  },
  {
   "cell_type": "markdown",
   "metadata": {},
   "source": [
    "# 5."
   ]
  },
  {
   "cell_type": "code",
   "execution_count": 29,
   "metadata": {},
   "outputs": [
    {
     "name": "stdout",
     "output_type": "stream",
     "text": [
      "00101\n",
      "101\n",
      "1001011\n"
     ]
    }
   ],
   "source": [
    "def dec2binary(dnumber):\n",
    "    \"\"\"\n",
    "    function to convert a decimal number to decimal number to its binary form\n",
    "    \"\"\"\n",
    "\n",
    "    q = dnumber\n",
    "    num = []\n",
    "    while q > 1:\n",
    "        num.append(q % 2)\n",
    "        q = int(q/2)\n",
    "\n",
    "    num.append(q)\n",
    "\n",
    "    b = \"\"\n",
    "    for i in num :\n",
    "        b = b+str(i)\n",
    "\n",
    "    return b\n",
    "\n",
    "print(dec2binary(20))\n",
    "print(dec2binary(5))\n",
    "print(dec2binary(105))"
   ]
  },
  {
   "cell_type": "markdown",
   "metadata": {},
   "source": [
    "# 6."
   ]
  },
  {
   "cell_type": "code",
   "execution_count": 30,
   "metadata": {
    "collapsed": true
   },
   "outputs": [],
   "source": [
    "def cubesum(num):\n",
    "    \"\"\"\n",
    "    function to return the sum of the cubes of the digits of a number\n",
    "    \"\"\"\n",
    "    n =  int(num)\n",
    "    digits = []\n",
    "    while (n > 0) :\n",
    "        digits.append(n%10)\n",
    "        n = int(n / 10)\n",
    "\n",
    "    sum = 0\n",
    "    for i in digits:\n",
    "        sum = sum + (i**3)\n",
    "\n",
    "    return sum\n",
    "\n",
    "def isarmstrong(num):\n",
    "    \"\"\"\n",
    "    function to tell wether a number is an armstrong number or not : Returns bool value\n",
    "    \"\"\"\n",
    "    if num == cubesum(num):\n",
    "        print(str(num) + \" is an armstrong number\")\n",
    "    else:\n",
    "        print( str(num) + \" is not an armstrong number\")\n",
    "\n",
    "\n",
    "def print_armstrong(limit):\n",
    "\n",
    "    for i in range(1,limit+1):\n",
    "        if i == cubesum(i):\n",
    "            print (str(i) + \"\\n\")\n",
    "            \n"
   ]
  },
  {
   "cell_type": "markdown",
   "metadata": {},
   "source": [
    "# 7."
   ]
  },
  {
   "cell_type": "code",
   "execution_count": 31,
   "metadata": {},
   "outputs": [
    {
     "name": "stdout",
     "output_type": "stream",
     "text": [
      "The product of the digits of the number 157 is :  35\n",
      "The product of the digits of the number 248 is :  64\n",
      "The product of the digits of the number 957 is :  315\n"
     ]
    }
   ],
   "source": [
    "def prodDigits(num):\n",
    "    \"\"\"\n",
    "    funtion that returns the product of the digits of a number\n",
    "    \"\"\"\n",
    "    n =  int(num)\n",
    "    digits = []\n",
    "    while (n > 0) :\n",
    "        digits.append(n%10)\n",
    "        n = int(n / 10)\n",
    "    prod = 1\n",
    "\n",
    "    for i in digits:\n",
    "        prod = prod * i\n",
    "\n",
    "    return prod\n",
    "\n",
    "print(\"The product of the digits of the number 157 is : \",prodDigits(157))\n",
    "print(\"The product of the digits of the number 248 is : \",prodDigits(248))\n",
    "print(\"The product of the digits of the number 957 is : \",prodDigits(957))"
   ]
  },
  {
   "cell_type": "markdown",
   "metadata": {},
   "source": [
    "# 8."
   ]
  },
  {
   "cell_type": "code",
   "execution_count": 48,
   "metadata": {},
   "outputs": [
    {
     "name": "stdout",
     "output_type": "stream",
     "text": [
      "\n",
      "\n",
      "The MPresistence is 3 and  the MDR is 8\n"
     ]
    }
   ],
   "source": [
    "\n",
    "def MPresistence(num):\n",
    "    \"\"\"\n",
    "    function to geT the Mpresistence of a number \n",
    "    \"\"\"\n",
    "    n = num\n",
    "    c = 0\n",
    "    while n>10 :\n",
    "        n = prodDigits(n)\n",
    "        c = c + 1\n",
    "\n",
    "    return c\n",
    "\n",
    "def MDR(num):\n",
    "    \"\"\"\n",
    "    function to geT the MDR of a number \n",
    "    \n",
    "    \"\"\"\n",
    "    n = num\n",
    "    while n > 10 :\n",
    "        n = prodDigits(n)\n",
    "\n",
    "    return n\n",
    "\n",
    "\n",
    "x = 482\n",
    "print(\"\\n\")\n",
    "print(\"The MPresistence is \" + str(MPresistence(x)) + \" and  the MDR is \" + str((MDR(x))))"
   ]
  },
  {
   "cell_type": "markdown",
   "metadata": {},
   "source": [
    "# 9. "
   ]
  },
  {
   "cell_type": "code",
   "execution_count": 49,
   "metadata": {},
   "outputs": [
    {
     "name": "stdout",
     "output_type": "stream",
     "text": [
      "The sum of the divisors of the number 482 is :  244\n"
     ]
    }
   ],
   "source": [
    "\n",
    "def sumDivisors(num):\n",
    "    \"\"\"\n",
    "    function find the sum of divisors of a number\n",
    "    \"\"\"\n",
    "    Divisors = []\n",
    "    for i in range(1,int(round(num/2))+1):\n",
    "        if (num%i)==0:\n",
    "            Divisors.append(i)\n",
    "\n",
    "    return sum(Divisors)\n",
    "\n",
    "print(\"The sum of the divisors of the number 482 is : \",sumDivisors(482))"
   ]
  },
  {
   "cell_type": "markdown",
   "metadata": {},
   "source": [
    "# 10."
   ]
  },
  {
   "cell_type": "code",
   "execution_count": 50,
   "metadata": {},
   "outputs": [
    {
     "name": "stdout",
     "output_type": "stream",
     "text": [
      "perfect numbers from 1 to 1000 : \n",
      "\n",
      "6\n",
      "\n",
      "28\n",
      "\n",
      "496\n",
      "\n"
     ]
    }
   ],
   "source": [
    "def perfect_gen(start,stop):\n",
    "\n",
    "    for i in range(start,stop + 1):\n",
    "        if i == sumDivisors(i):\n",
    "            print(str(i)+\"\\n\")\n",
    "\n",
    "print(\"perfect numbers from 1 to 1000 : \\n\")\n",
    "perfect_gen(1,1000)"
   ]
  },
  {
   "cell_type": "markdown",
   "metadata": {},
   "source": [
    "# 11."
   ]
  },
  {
   "cell_type": "code",
   "execution_count": 51,
   "metadata": {},
   "outputs": [
    {
     "name": "stdout",
     "output_type": "stream",
     "text": [
      "numbers are amicable\n"
     ]
    }
   ],
   "source": [
    "\n",
    "def amicable_pairs_check(num1, num2):\n",
    "    \"\"\"\n",
    "    programm to check if two numbers are amicable or not.\n",
    "    \n",
    "    Two numbers are amicable\n",
    "    \"\"\"\n",
    "\n",
    "    if num1 == sumDivisors(num2) and num2 == sumDivisors(num1):\n",
    "        print(\"numbers are amicable\")\n",
    "\n",
    "amicable_pairs_check(220,284)"
   ]
  },
  {
   "cell_type": "markdown",
   "metadata": {},
   "source": [
    "# 12."
   ]
  },
  {
   "cell_type": "code",
   "execution_count": 52,
   "metadata": {},
   "outputs": [
    {
     "name": "stdout",
     "output_type": "stream",
     "text": [
      "[1, 3, 5, 7, 9]\n"
     ]
    }
   ],
   "source": [
    "def odd_filter(numbers):\n",
    "    \"\"\"\n",
    "    programm to filter odd numbers in a list using filter functions\n",
    "\n",
    "    \"\"\"\n",
    "    odd_numbers = list(filter(lambda x:not(x % 2 == 0),numbers))\n",
    "\n",
    "    return odd_numbers\n",
    "\n",
    "\n",
    "print(odd_filter([1,2,3,4,5,6,7,8,9,10]))\n"
   ]
  },
  {
   "cell_type": "markdown",
   "metadata": {},
   "source": [
    "# 13."
   ]
  },
  {
   "cell_type": "code",
   "execution_count": 53,
   "metadata": {},
   "outputs": [
    {
     "name": "stdout",
     "output_type": "stream",
     "text": [
      "[1, 8, 27, 64, 125, 216]\n"
     ]
    }
   ],
   "source": [
    "def cube_map(numbers):\n",
    "    \"\"\"\n",
    "    programm to map the cube of the numbers using map function and return the new list\n",
    "    \"\"\"\n",
    "\n",
    "    cubes = list(map(lambda x:x**3,numbers))\n",
    "\n",
    "    return cubes\n",
    "\n",
    "print(cube_map([1,2,3,4,5,6]))\n"
   ]
  },
  {
   "cell_type": "markdown",
   "metadata": {},
   "source": [
    "# 14. "
   ]
  },
  {
   "cell_type": "code",
   "execution_count": 54,
   "metadata": {},
   "outputs": [
    {
     "name": "stdout",
     "output_type": "stream",
     "text": [
      "[2744, 39304, 203297472]\n"
     ]
    }
   ],
   "source": [
    "def even_cube(numbers):\n",
    "    \"\"\"\n",
    "    programm to return the cube of the even numbers present in a list \n",
    "    \"\"\"\n",
    "\n",
    "    evens = list(filter(lambda x : (x%2==0),numbers))\n",
    "    cubes = list(map(lambda x : x ** 3,evens))\n",
    "\n",
    "    return cubes\n",
    "\n",
    "print(even_cube([11,13,14,19,21,34,588]))"
   ]
  }
 ],
 "metadata": {
  "kernelspec": {
   "display_name": "Python 3",
   "language": "python",
   "name": "python3"
  },
  "language_info": {
   "codemirror_mode": {
    "name": "ipython",
    "version": 3
   },
   "file_extension": ".py",
   "mimetype": "text/x-python",
   "name": "python",
   "nbconvert_exporter": "python",
   "pygments_lexer": "ipython3",
   "version": "3.5.4"
  }
 },
 "nbformat": 4,
 "nbformat_minor": 2
}
